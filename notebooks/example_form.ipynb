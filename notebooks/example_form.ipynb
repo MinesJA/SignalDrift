{
 "cells": [
  {
   "cell_type": "code",
   "execution_count": 2,
   "id": "be8aceb1-1407-4cbb-bcec-414ba93b68f1",
   "metadata": {},
   "outputs": [
    {
     "data": {
      "application/vnd.jupyter.widget-view+json": {
       "model_id": "52417b7d5b47499bbc4892c0f5c4c93e",
       "version_major": 2,
       "version_minor": 0
      },
      "text/plain": [
       "VBox(children=(HTML(value='<h3>External Service Form</h3>'), Text(value='', description='Name:'), Text(value='…"
      ]
     },
     "metadata": {},
     "output_type": "display_data"
    }
   ],
   "source": [
    "import ipywidgets as widgets\n",
    "from IPython.display import display\n",
    "import requests\n",
    "import json\n",
    "\n",
    "# Example: Submit to a webhook or API\n",
    "def submit_to_external_service(data):\n",
    "    \"\"\"\n",
    "    Example function to submit data to external service\n",
    "    Replace with your actual endpoint\n",
    "    \"\"\"\n",
    "    try:\n",
    "        # Example webhook URL (replace with your actual service)\n",
    "        # webhook_url = \"https://hooks.zapier.com/hooks/catch/xxxxx/yyyyy/\"\n",
    "        # response = requests.post(webhook_url, json=data)\n",
    "        # return response.status_code == 200\n",
    "        \n",
    "        # For demo purposes, just print the data\n",
    "        print(\"📤 Data would be sent to external service:\")\n",
    "        print(json.dumps(data, indent=2))\n",
    "        return True\n",
    "        \n",
    "    except Exception as e:\n",
    "        print(f\"❌ Error submitting to external service: {e}\")\n",
    "        return False\n",
    "\n",
    "# Form with external submission\n",
    "def create_external_form():\n",
    "    name_input = widgets.Text(description='Name:')\n",
    "    email_input = widgets.Text(description='Email:')\n",
    "    submit_button = widgets.Button(description='Submit to External Service', button_style='success')\n",
    "    output = widgets.Output()\n",
    "    \n",
    "    def on_submit(button):\n",
    "        with output:\n",
    "            data = {\n",
    "                'name': name_input.value,\n",
    "                'email': email_input.value,\n",
    "                'source': 'jupyter_notebook'\n",
    "            }\n",
    "            \n",
    "            if submit_to_external_service(data):\n",
    "                print(\"✅ Successfully submitted to external service!\")\n",
    "            else:\n",
    "                print(\"❌ Failed to submit to external service.\")\n",
    "    \n",
    "    submit_button.on_click(on_submit)\n",
    "    \n",
    "    form = widgets.VBox([\n",
    "        widgets.HTML(\"<h3>External Service Form</h3>\"),\n",
    "        name_input,\n",
    "        email_input,\n",
    "        submit_button,\n",
    "        output\n",
    "    ])\n",
    "    \n",
    "    return form\n",
    "\n",
    "# Display the external form\n",
    "external_form = create_external_form()\n",
    "display(external_form)"
   ]
  },
  {
   "cell_type": "code",
   "execution_count": null,
   "id": "88fe2ba4-9529-45e7-a47e-3aff0bfcbaa8",
   "metadata": {},
   "outputs": [],
   "source": []
  }
 ],
 "metadata": {
  "kernelspec": {
   "display_name": "Python 3 (ipykernel)",
   "language": "python",
   "name": "python3"
  },
  "language_info": {
   "codemirror_mode": {
    "name": "ipython",
    "version": 3
   },
   "file_extension": ".py",
   "mimetype": "text/x-python",
   "name": "python",
   "nbconvert_exporter": "python",
   "pygments_lexer": "ipython3",
   "version": "3.12.4"
  }
 },
 "nbformat": 4,
 "nbformat_minor": 5
}
