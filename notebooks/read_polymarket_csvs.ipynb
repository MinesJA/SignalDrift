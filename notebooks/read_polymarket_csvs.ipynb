{
 "cells": [
  {
   "cell_type": "code",
   "execution_count": null,
   "id": "b6e23c00-b62c-40a3-ab67-597b1086b92d",
   "metadata": {},
   "outputs": [],
   "source": [
    "# Read from CSVs\n",
    "\n",
    "import pandas as pd\n",
    "import os\n",
    "\n",
    "def read_polymarket_csv(csv_filename):\n",
    "    \"\"\"\n",
    "    Read a Polymarket trades CSV file and return a pandas DataFrame.\n",
    "    \n",
    "    Args:\n",
    "        csv_filename (str): Name of the CSV file (e.g., 'polymarket_trades_0xd218e4_202505301025.csv')\n",
    "    \n",
    "    Returns:\n",
    "        pandas.DataFrame: DataFrame with trade data, trade_dttm converted to datetime\n",
    "    \"\"\"\n",
    "    try:\n",
    "        # Construct full path to the CSV file in the data directory\n",
    "        file_path = os.path.join(\"data\", csv_filename)\n",
    "        \n",
    "        # Check if file exists\n",
    "        if not os.path.exists(file_path):\n",
    "            raise FileNotFoundError(f\"File not found: {file_path}\")\n",
    "        \n",
    "        # Read the CSV file\n",
    "        df = pd.read_csv(file_path)\n",
    "        \n",
    "        # Convert trade_dttm to datetime for proper analysis\n",
    "        if 'trade_dttm' in df.columns:\n",
    "            df['trade_dttm'] = pd.to_datetime(df['trade_dttm'])\n",
    "        \n",
    "        print(f\"Successfully loaded {len(df)} trades from {csv_filename}\")\n",
    "        print(f\"Columns: {list(df.columns)}\")\n",
    "        \n",
    "        if 'trade_dttm' in df.columns:\n",
    "            print(f\"Date range: {df['trade_dttm'].min()} to {df['trade_dttm'].max()}\")\n",
    "        \n",
    "        return df\n",
    "        \n",
    "    except FileNotFoundError as e:\n",
    "        print(f\"Error: {e}\")\n",
    "        return None\n",
    "    except Exception as e:\n",
    "        print(f\"Error reading CSV file: {e}\")\n",
    "        return None\n",
    "\n",
    "# Example usage:\n",
    "# df = read_polymarket_csv('polymarket_trades_0xd218e4_202505301025.csv')\n",
    "# if df is not None:\n",
    "#     print(df.head())\n",
    "\n",
    "df = read_polymarket_csv('poly_user_activity_trades_0xb49f46_202505301041.csv')\n",
    "df.head()\n"
   ]
  }
 ],
 "metadata": {
  "kernelspec": {
   "display_name": "Python 3 (ipykernel)",
   "language": "python",
   "name": "python3"
  },
  "language_info": {
   "codemirror_mode": {
    "name": "ipython",
    "version": 3
   },
   "file_extension": ".py",
   "mimetype": "text/x-python",
   "name": "python",
   "nbconvert_exporter": "python",
   "pygments_lexer": "ipython3",
   "version": "3.12.4"
  }
 },
 "nbformat": 4,
 "nbformat_minor": 5
}
